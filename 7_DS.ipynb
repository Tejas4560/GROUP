{
 "cells": [
  {
   "cell_type": "code",
   "execution_count": 1,
   "id": "e1967995-3c06-42fa-afe1-ff18199894c9",
   "metadata": {},
   "outputs": [],
   "source": [
    "import nltk \n",
    "from nltk.tokenize import word_tokenize \n",
    "from nltk import pos_tag \n",
    "from nltk.corpus import stopwords \n",
    "from nltk.stem import PorterStemmer, WordNetLemmatizer\n",
    "from sklearn.feature_extraction.text import TfidfVectorizer\n",
    "import string"
   ]
  },
  {
   "cell_type": "code",
   "execution_count": 2,
   "id": "922ad1c4-8919-46de-9434-841f018a9b73",
   "metadata": {},
   "outputs": [
    {
     "name": "stderr",
     "output_type": "stream",
     "text": [
      "[nltk_data] Downloading package punkt to\n",
      "[nltk_data]     C:\\Users\\tsr20\\AppData\\Roaming\\nltk_data...\n",
      "[nltk_data]   Unzipping tokenizers\\punkt.zip.\n",
      "[nltk_data] Downloading package averaged_perceptron_tagger to\n",
      "[nltk_data]     C:\\Users\\tsr20\\AppData\\Roaming\\nltk_data...\n",
      "[nltk_data]   Unzipping taggers\\averaged_perceptron_tagger.zip.\n",
      "[nltk_data] Downloading package stopwords to\n",
      "[nltk_data]     C:\\Users\\tsr20\\AppData\\Roaming\\nltk_data...\n",
      "[nltk_data]   Unzipping corpora\\stopwords.zip.\n",
      "[nltk_data] Downloading package wordnet to\n",
      "[nltk_data]     C:\\Users\\tsr20\\AppData\\Roaming\\nltk_data...\n"
     ]
    },
    {
     "data": {
      "text/plain": [
       "True"
      ]
     },
     "execution_count": 2,
     "metadata": {},
     "output_type": "execute_result"
    }
   ],
   "source": [
    "nltk.download('punkt')\n",
    "nltk.download('averaged_perceptron_tagger')\n",
    "nltk.download('stopwords')\n",
    "nltk.download('wordnet')"
   ]
  },
  {
   "cell_type": "code",
   "execution_count": 3,
   "id": "c1a80fd5-a358-43b5-8ebc-2e2a8a969a73",
   "metadata": {},
   "outputs": [
    {
     "name": "stdout",
     "output_type": "stream",
     "text": [
      "Tokenization: ['Text', 'analytics', 'is', 'the', 'process', 'of', 'converting', 'unstructured', 'text', 'data', 'into', 'meaningful', 'and', 'actionable', 'information', '.']\n"
     ]
    }
   ],
   "source": [
    "# Sample document\n",
    "sample_document = \"Text analytics is the process of converting unstructured text data into meaningful and actionable information.\"\n",
    "\n",
    "# Tokenization\n",
    "tokens = word_tokenize(sample_document)\n",
    "print(\"Tokenization:\", tokens)"
   ]
  },
  {
   "cell_type": "code",
   "execution_count": 5,
   "id": "ce8be384-d776-45d9-aaac-051b1470e562",
   "metadata": {},
   "outputs": [
    {
     "name": "stdout",
     "output_type": "stream",
     "text": [
      "\n",
      "POS Tagging: [('Text', 'NN'), ('analytics', 'NNS'), ('is', 'VBZ'), ('the', 'DT'), ('process', 'NN'), ('of', 'IN'), ('converting', 'VBG'), ('unstructured', 'JJ'), ('text', 'NN'), ('data', 'NNS'), ('into', 'IN'), ('meaningful', 'JJ'), ('and', 'CC'), ('actionable', 'JJ'), ('information', 'NN'), ('.', '.')]\n"
     ]
    }
   ],
   "source": [
    "# POS Tagging\n",
    "pos_tags = pos_tag(tokens)\n",
    "print(\"\\nPOS Tagging:\", pos_tags)"
   ]
  },
  {
   "cell_type": "code",
   "execution_count": 6,
   "id": "9440d512-59b8-4664-862c-dfd5a9e993a6",
   "metadata": {},
   "outputs": [
    {
     "name": "stdout",
     "output_type": "stream",
     "text": [
      "\n",
      "Stopwords Removal: ['Text', 'analytics', 'process', 'converting', 'unstructured', 'text', 'data', 'meaningful', 'actionable', 'information', '.']\n"
     ]
    }
   ],
   "source": [
    " # Stopwords removal\n",
    "stop_words = set(stopwords.words('english'))\n",
    "filtered_tokens = [word for word in tokens if word.lower() not in \n",
    "stop_words]\n",
    "print(\"\\nStopwords Removal:\", filtered_tokens)"
   ]
  },
  {
   "cell_type": "code",
   "execution_count": 7,
   "id": "376b6dc6-de92-4a02-bf26-c70c9ac8356a",
   "metadata": {},
   "outputs": [
    {
     "name": "stdout",
     "output_type": "stream",
     "text": [
      "\n",
      "Stemming: ['text', 'analyt', 'process', 'convert', 'unstructur', 'text', 'data', 'meaning', 'action', 'inform', '.']\n"
     ]
    }
   ],
   "source": [
    "# Stemming\n",
    "stemmer = PorterStemmer()\n",
    "stemmed_tokens = [stemmer.stem(word) for word in filtered_tokens]\n",
    "print(\"\\nStemming:\", stemmed_tokens)"
   ]
  },
  {
   "cell_type": "code",
   "execution_count": 8,
   "id": "ec9a9c23-c9f3-464d-8812-15c768bbfaca",
   "metadata": {},
   "outputs": [
    {
     "name": "stdout",
     "output_type": "stream",
     "text": [
      "\n",
      "Lemmatization: ['Text', 'analytics', 'process', 'converting', 'unstructured', 'text', 'data', 'meaningful', 'actionable', 'information', '.']\n"
     ]
    }
   ],
   "source": [
    "# Lemmatization\n",
    "lemmatizer = WordNetLemmatizer()\n",
    "lemmatized_tokens = [lemmatizer.lemmatize(word) for word in \n",
    "filtered_tokens]\n",
    "print(\"\\nLemmatization:\", lemmatized_tokens)"
   ]
  },
  {
   "cell_type": "code",
   "execution_count": 11,
   "id": "4498c5bb-c189-4002-a892-6462101fe8f1",
   "metadata": {},
   "outputs": [
    {
     "name": "stdout",
     "output_type": "stream",
     "text": [
      "\n",
      "TF-IDF Representation\n",
      "  (0, 5)\t0.24253562503633297\n",
      "  (0, 0)\t0.24253562503633297\n",
      "  (0, 2)\t0.24253562503633297\n",
      "  (0, 8)\t0.24253562503633297\n",
      "  (0, 6)\t0.24253562503633297\n",
      "  (0, 4)\t0.24253562503633297\n",
      "  (0, 13)\t0.24253562503633297\n",
      "  (0, 3)\t0.24253562503633297\n",
      "  (0, 9)\t0.24253562503633297\n",
      "  (0, 10)\t0.24253562503633297\n",
      "  (0, 12)\t0.24253562503633297\n",
      "  (0, 7)\t0.24253562503633297\n",
      "  (0, 1)\t0.24253562503633297\n",
      "  (0, 11)\t0.48507125007266594\n"
     ]
    }
   ],
   "source": [
    "# Term Frequency - Inverse Document Frequency (TF-IDF) representation\n",
    "tfidf_vectorizer = TfidfVectorizer()\n",
    "tfidf_representation = tfidf_vectorizer.fit_transform([sample_document])\n",
    "print(\"\\nTF-IDF Representation\")\n",
    "print(tfidf_representation)"
   ]
  }
 ],
 "metadata": {
  "kernelspec": {
   "display_name": "Python 3 (ipykernel)",
   "language": "python",
   "name": "python3"
  },
  "language_info": {
   "codemirror_mode": {
    "name": "ipython",
    "version": 3
   },
   "file_extension": ".py",
   "mimetype": "text/x-python",
   "name": "python",
   "nbconvert_exporter": "python",
   "pygments_lexer": "ipython3",
   "version": "3.11.5"
  }
 },
 "nbformat": 4,
 "nbformat_minor": 5
}
